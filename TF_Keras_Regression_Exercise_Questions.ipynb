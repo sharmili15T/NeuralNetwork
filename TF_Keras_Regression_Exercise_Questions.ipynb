{
 "cells": [
  {
   "cell_type": "markdown",
   "id": "d7efb141",
   "metadata": {},
   "source": [
    "You are provided a dataset on car sales and asked to do the following.\n",
    "\n",
    "**Objective**\n",
    "Predict the value of a potential car sale (i.e. how much a particular person will spend on buying a car) for a customer based on the following attributes:\n",
    "- Age\n",
    "- Gender\n",
    "- Average miles driven per day\n",
    "- Personal debt\n",
    "- Monthly income"
   ]
  },
  {
   "cell_type": "code",
   "execution_count": 1,
   "id": "f3f37f94",
   "metadata": {},
   "outputs": [],
   "source": [
    "# Questions:\n",
    "\n",
    "# 1. Read the cars dataset and carry out the usual exploratory process, and do the needful to clean the data.\n",
    "# 2. Do the feature-label segregation as well as train-test split, and normalize the train features.\n",
    "# 3. Train the model on all the input features with two hidden layers of 12 and 8 neurons respectively, using mae as loss function.\n",
    "# 4. Fit the model and run 150 epochs, and plot the training and validation loss. Obtain the mae score and plot the predictions.\n",
    "# 5. Carry out L2 regularization and evaluate the model"
   ]
  }
 ],
 "metadata": {
  "kernelspec": {
   "display_name": "Python 3 (ipykernel)",
   "language": "python",
   "name": "python3"
  },
  "language_info": {
   "codemirror_mode": {
    "name": "ipython",
    "version": 3
   },
   "file_extension": ".py",
   "mimetype": "text/x-python",
   "name": "python",
   "nbconvert_exporter": "python",
   "pygments_lexer": "ipython3",
   "version": "3.8.11"
  }
 },
 "nbformat": 4,
 "nbformat_minor": 5
}
