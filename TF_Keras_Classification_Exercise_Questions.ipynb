{
 "cells": [
  {
   "cell_type": "markdown",
   "id": "82439187",
   "metadata": {},
   "source": [
    "Diabetes is a serious health issue which causes an increase in blood sugar. Many complications occur if diabetes remains untreated and unidentified.\n",
    "\n",
    "The aim of this exercise is to build a classification model to detect diabetes using the diabetes dataset which contains 768 observations and 9 variables, as described below:\n",
    "- Pregnancies: Number of pregnancies\n",
    "- Glucose: Plasma glucose concentration a 2 hours in an oral glucose tolerance test\n",
    "- BloodPressure: Diastolic blood pressure (mm Hg)\n",
    "- SkinThickness: Triceps skin fold thickness (mm)\n",
    "- Insulin: 2-Hour serum insulin (mu U/ml)\n",
    "- BMI: Body mass index (weight in kg/(height in m)^2)\n",
    "- DiabetesPedigreeFunction: Diabetes pedigree function\n",
    "- Age: Age (years)\n",
    "- Outcome: Class variable (0 or 1); 1 represents the presence of diabetes while 0 represents the absence of it"
   ]
  },
  {
   "cell_type": "code",
   "execution_count": 1,
   "id": "da198fbe",
   "metadata": {},
   "outputs": [],
   "source": [
    "# Questions:\n",
    "# 1. Read the diabetes data and do feature-target segregation followed by the usual train-test split.\n",
    "# 2. Train the model with input layer of 500 neurons, two hidden layers of 100 and 50 neurons respectively.\n",
    "#    Use 'relu' activation function in input as well as hidden layers. Add output layer with suitable number of nodes with \n",
    "#    softmax function.\n",
    "# 3. Compile the model using this: optimizer='adam', loss='categorical_crossentropy', metrics=['accuracy'].\n",
    "# 4. Fit the model and run 100 epochs. Obtain probability prediction for first test record and compare with actual label.\n",
    "# 5. Plot the training and validation loss.\n",
    "# 6. Using GridSearchCV, tune both batch_size as well as number of neurons. Obtain the best parameters and best score in each\n",
    "#    case."
   ]
  }
 ],
 "metadata": {
  "kernelspec": {
   "display_name": "Python 3 (ipykernel)",
   "language": "python",
   "name": "python3"
  },
  "language_info": {
   "codemirror_mode": {
    "name": "ipython",
    "version": 3
   },
   "file_extension": ".py",
   "mimetype": "text/x-python",
   "name": "python",
   "nbconvert_exporter": "python",
   "pygments_lexer": "ipython3",
   "version": "3.8.11"
  }
 },
 "nbformat": 4,
 "nbformat_minor": 5
}
