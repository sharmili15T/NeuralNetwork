{
 "cells": [
  {
   "cell_type": "code",
   "execution_count": 1,
   "id": "c9c86c66",
   "metadata": {},
   "outputs": [],
   "source": [
    "import tensorflow as tf\n",
    "from tensorflow import keras"
   ]
  },
  {
   "cell_type": "code",
   "execution_count": 4,
   "id": "8931304c",
   "metadata": {},
   "outputs": [],
   "source": [
    "! pip install -q -U keras-tuner "
   ]
  },
  {
   "cell_type": "code",
   "execution_count": 7,
   "id": "55b43f83",
   "metadata": {},
   "outputs": [],
   "source": [
    "import keras_tuner as kt"
   ]
  },
  {
   "cell_type": "code",
   "execution_count": 8,
   "id": "16d6df04",
   "metadata": {},
   "outputs": [
    {
     "name": "stdout",
     "output_type": "stream",
     "text": [
      "Downloading data from https://storage.googleapis.com/tensorflow/tf-keras-datasets/train-labels-idx1-ubyte.gz\n",
      "32768/29515 [=================================] - 0s 1us/step\n",
      "40960/29515 [=========================================] - 0s 1us/step\n",
      "Downloading data from https://storage.googleapis.com/tensorflow/tf-keras-datasets/train-images-idx3-ubyte.gz\n",
      "26427392/26421880 [==============================] - 5s 0us/step\n",
      "26435584/26421880 [==============================] - 5s 0us/step\n",
      "Downloading data from https://storage.googleapis.com/tensorflow/tf-keras-datasets/t10k-labels-idx1-ubyte.gz\n",
      "16384/5148 [===============================================================================================] - 0s 0s/step\n",
      "Downloading data from https://storage.googleapis.com/tensorflow/tf-keras-datasets/t10k-images-idx3-ubyte.gz\n",
      "4423680/4422102 [==============================] - 1s 0us/step\n",
      "4431872/4422102 [==============================] - 1s 0us/step\n"
     ]
    }
   ],
   "source": [
    "(img_train,label_train),(img_test,label_test)= keras.datasets.fashion_mnist.load_data()"
   ]
  },
  {
   "cell_type": "code",
   "execution_count": 9,
   "id": "93279e8f",
   "metadata": {},
   "outputs": [],
   "source": [
    "img_train = img_train.astype('float32')/255.0\n",
    "img_test = img_test.astype('float32')/255.0"
   ]
  },
  {
   "cell_type": "code",
   "execution_count": 15,
   "id": "2b719850",
   "metadata": {},
   "outputs": [],
   "source": [
    "def model_builder(hp):\n",
    "    model = keras.Sequential()\n",
    "    model.add(keras.layers.Flatten(input_shape=(28,28)))\n",
    "    \n",
    "    hp_units = hp.Int('units',min_value= 28, max_value=40,step=2)\n",
    "    \n",
    "    model.add(keras.layers.Dense(units=hp_units,activation='relu'))\n",
    "    model.add(keras.layers.Dense(10))\n",
    "    \n",
    "    hp_learning = hp.Choice('learning rate',values=[0.001,0.0001,0.00001])\n",
    "    \n",
    "    model.compile(optimizer=keras.optimizers.Adam(learning_rate=hp_learning),\n",
    "                                                 loss= keras.losses.SparseCategoricalCrossentropy(from_logits=True),\n",
    "                                                 metrics=['accuracy'])\n",
    "    return model"
   ]
  },
  {
   "cell_type": "code",
   "execution_count": 16,
   "id": "40677b65",
   "metadata": {},
   "outputs": [],
   "source": [
    "tuner = kt.Hyperband(model_builder,objective='val_accuracy',\n",
    "                    max_epochs=2,\n",
    "                    directory='my_dir',\n",
    "                    project_name='intro_to_kt',\n",
    "                    overwrite=True)"
   ]
  },
  {
   "cell_type": "code",
   "execution_count": 17,
   "id": "abfd713e",
   "metadata": {},
   "outputs": [],
   "source": [
    "stop_early = tf.keras.callbacks.EarlyStopping(monitor='val_loss',\n",
    "                                             patience=5)"
   ]
  },
  {
   "cell_type": "code",
   "execution_count": 18,
   "id": "26bad885",
   "metadata": {},
   "outputs": [
    {
     "name": "stdout",
     "output_type": "stream",
     "text": [
      "Trial 2 Complete [00h 00m 02s]\n",
      "val_accuracy: 0.8580833077430725\n",
      "\n",
      "Best val_accuracy So Far: 0.8580833077430725\n",
      "Total elapsed time: 00h 00m 05s\n",
      "INFO:tensorflow:Oracle triggered exit\n"
     ]
    }
   ],
   "source": [
    "tuner.search(img_train,label_train,\n",
    "            epochs=2, validation_split=0.2,\n",
    "            callbacks=[stop_early])"
   ]
  },
  {
   "cell_type": "code",
   "execution_count": 22,
   "id": "9a453cfd",
   "metadata": {},
   "outputs": [],
   "source": [
    "best_hps = tuner.get_best_hyperparameters(num_trials=1)[0]"
   ]
  },
  {
   "cell_type": "code",
   "execution_count": 23,
   "id": "74ff37f0",
   "metadata": {},
   "outputs": [
    {
     "data": {
      "text/plain": [
       "36"
      ]
     },
     "execution_count": 23,
     "metadata": {},
     "output_type": "execute_result"
    }
   ],
   "source": [
    "best_hps.get('units')\n"
   ]
  },
  {
   "cell_type": "code",
   "execution_count": 25,
   "id": "71d9d0d2",
   "metadata": {},
   "outputs": [
    {
     "data": {
      "text/plain": [
       "0.001"
      ]
     },
     "execution_count": 25,
     "metadata": {},
     "output_type": "execute_result"
    }
   ],
   "source": [
    "best_hps.get('learning rate')"
   ]
  },
  {
   "cell_type": "code",
   "execution_count": 26,
   "id": "a6303d1d",
   "metadata": {},
   "outputs": [],
   "source": [
    "model = tuner.hypermodel.build(best_hps)"
   ]
  },
  {
   "cell_type": "code",
   "execution_count": 30,
   "id": "2bc13a37",
   "metadata": {},
   "outputs": [
    {
     "name": "stdout",
     "output_type": "stream",
     "text": [
      "Epoch 1/10\n",
      "1500/1500 [==============================] - 1s 691us/step - loss: 0.3312 - accuracy: 0.8805 - val_loss: 0.3736 - val_accuracy: 0.8684\n",
      "Epoch 2/10\n",
      "1500/1500 [==============================] - 1s 714us/step - loss: 0.3214 - accuracy: 0.8834 - val_loss: 0.3476 - val_accuracy: 0.8788\n",
      "Epoch 3/10\n",
      "1500/1500 [==============================] - 1s 700us/step - loss: 0.3097 - accuracy: 0.8878 - val_loss: 0.3785 - val_accuracy: 0.8633\n",
      "Epoch 4/10\n",
      "1500/1500 [==============================] - 1s 732us/step - loss: 0.3009 - accuracy: 0.8902 - val_loss: 0.3569 - val_accuracy: 0.8728\n",
      "Epoch 5/10\n",
      "1500/1500 [==============================] - 1s 941us/step - loss: 0.2940 - accuracy: 0.8923 - val_loss: 0.3582 - val_accuracy: 0.8712\n",
      "Epoch 6/10\n",
      "1500/1500 [==============================] - 1s 709us/step - loss: 0.2864 - accuracy: 0.8951 - val_loss: 0.3405 - val_accuracy: 0.8777\n",
      "Epoch 7/10\n",
      "1500/1500 [==============================] - 1s 810us/step - loss: 0.2792 - accuracy: 0.8968 - val_loss: 0.3575 - val_accuracy: 0.8746\n",
      "Epoch 8/10\n",
      "1500/1500 [==============================] - 1s 687us/step - loss: 0.2721 - accuracy: 0.9006 - val_loss: 0.3481 - val_accuracy: 0.8788\n",
      "Epoch 9/10\n",
      "1500/1500 [==============================] - 1s 785us/step - loss: 0.2682 - accuracy: 0.9013 - val_loss: 0.3388 - val_accuracy: 0.8785\n",
      "Epoch 10/10\n",
      "1500/1500 [==============================] - 1s 710us/step - loss: 0.2616 - accuracy: 0.9031 - val_loss: 0.3434 - val_accuracy: 0.8795\n"
     ]
    }
   ],
   "source": [
    "history = model.fit(img_train,label_train,\n",
    "                   epochs=10,validation_split=0.2)"
   ]
  },
  {
   "cell_type": "code",
   "execution_count": 31,
   "id": "88c534c1",
   "metadata": {},
   "outputs": [
    {
     "data": {
      "text/plain": [
       "10"
      ]
     },
     "execution_count": 31,
     "metadata": {},
     "output_type": "execute_result"
    }
   ],
   "source": [
    "#to get the best epoch\n",
    "\n",
    "valacc = history.history['val_accuracy']\n",
    "best_epoch = valacc.index(max(valacc))+1\n",
    "best_epoch"
   ]
  },
  {
   "cell_type": "code",
   "execution_count": 32,
   "id": "69605494",
   "metadata": {},
   "outputs": [
    {
     "name": "stdout",
     "output_type": "stream",
     "text": [
      "Epoch 1/10\n",
      "1500/1500 [==============================] - 2s 1ms/step - loss: 0.5670 - accuracy: 0.8042 - val_loss: 0.5025 - val_accuracy: 0.8197\n",
      "Epoch 2/10\n",
      "1500/1500 [==============================] - 1s 735us/step - loss: 0.4188 - accuracy: 0.8529 - val_loss: 0.4259 - val_accuracy: 0.8524\n",
      "Epoch 3/10\n",
      "1500/1500 [==============================] - 1s 798us/step - loss: 0.3847 - accuracy: 0.8643 - val_loss: 0.3829 - val_accuracy: 0.8631\n",
      "Epoch 4/10\n",
      "1500/1500 [==============================] - 1s 777us/step - loss: 0.3599 - accuracy: 0.8710 - val_loss: 0.4044 - val_accuracy: 0.8631\n",
      "Epoch 5/10\n",
      "1500/1500 [==============================] - 1s 972us/step - loss: 0.3442 - accuracy: 0.8753 - val_loss: 0.3613 - val_accuracy: 0.8742\n",
      "Epoch 6/10\n",
      "1500/1500 [==============================] - 1s 822us/step - loss: 0.3294 - accuracy: 0.8806 - val_loss: 0.3689 - val_accuracy: 0.8698\n",
      "Epoch 7/10\n",
      "1500/1500 [==============================] - 1s 801us/step - loss: 0.3208 - accuracy: 0.8833 - val_loss: 0.3780 - val_accuracy: 0.8657\n",
      "Epoch 8/10\n",
      "1500/1500 [==============================] - 2s 1ms/step - loss: 0.3106 - accuracy: 0.8865 - val_loss: 0.3654 - val_accuracy: 0.8701\n",
      "Epoch 9/10\n",
      "1500/1500 [==============================] - 1s 908us/step - loss: 0.3017 - accuracy: 0.8881 - val_loss: 0.3574 - val_accuracy: 0.8735\n",
      "Epoch 10/10\n",
      "1500/1500 [==============================] - 1s 997us/step - loss: 0.2950 - accuracy: 0.8924 - val_loss: 0.3518 - val_accuracy: 0.8771\n"
     ]
    },
    {
     "data": {
      "text/plain": [
       "<keras.callbacks.History at 0x1d695889f70>"
      ]
     },
     "execution_count": 32,
     "metadata": {},
     "output_type": "execute_result"
    }
   ],
   "source": [
    "hypermodel = tuner.hypermodel.build(best_hps)\n",
    "\n",
    "hypermodel.fit(img_train,label_train,epochs= best_epoch,validation_split=0.2)"
   ]
  },
  {
   "cell_type": "code",
   "execution_count": 33,
   "id": "00aca3d5",
   "metadata": {},
   "outputs": [
    {
     "name": "stdout",
     "output_type": "stream",
     "text": [
      "313/313 [==============================] - 0s 744us/step - loss: 0.3748 - accuracy: 0.8693\n"
     ]
    },
    {
     "data": {
      "text/plain": [
       "[0.3747963309288025, 0.8693000078201294]"
      ]
     },
     "execution_count": 33,
     "metadata": {},
     "output_type": "execute_result"
    }
   ],
   "source": [
    "hypermodel.evaluate(img_test,label_test)"
   ]
  }
 ],
 "metadata": {
  "kernelspec": {
   "display_name": "Python 3",
   "language": "python",
   "name": "python3"
  },
  "language_info": {
   "codemirror_mode": {
    "name": "ipython",
    "version": 3
   },
   "file_extension": ".py",
   "mimetype": "text/x-python",
   "name": "python",
   "nbconvert_exporter": "python",
   "pygments_lexer": "ipython3",
   "version": "3.8.8"
  }
 },
 "nbformat": 4,
 "nbformat_minor": 5
}
